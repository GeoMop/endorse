{
 "cells": [
  {
   "cell_type": "code",
   "execution_count": 3,
   "id": "6eadaeaa-eea7-44d4-8cc7-06c6973007b7",
   "metadata": {
    "execution": {
     "iopub.execute_input": "2024-12-03T15:19:49.719096Z",
     "iopub.status.busy": "2024-12-03T15:19:49.718882Z",
     "iopub.status.idle": "2024-12-03T15:19:49.734278Z",
     "shell.execute_reply": "2024-12-03T15:19:49.733674Z",
     "shell.execute_reply.started": "2024-12-03T15:19:49.719077Z"
    }
   },
   "outputs": [
    {
     "ename": "ModuleNotFoundError",
     "evalue": "No module named 'sympy'",
     "output_type": "error",
     "traceback": [
      "\u001b[0;31m---------------------------------------------------------------------------\u001b[0m",
      "\u001b[0;31mModuleNotFoundError\u001b[0m                       Traceback (most recent call last)",
      "Cell \u001b[0;32mIn[3], line 1\u001b[0m\n\u001b[0;32m----> 1\u001b[0m \u001b[38;5;28;01mimport\u001b[39;00m \u001b[38;5;21;01msympy\u001b[39;00m \u001b[38;5;28;01mas\u001b[39;00m \u001b[38;5;21;01msp\u001b[39;00m\n\u001b[1;32m      3\u001b[0m \u001b[38;5;66;03m# Define variables\u001b[39;00m\n\u001b[1;32m      4\u001b[0m r, phi, P, s \u001b[38;5;241m=\u001b[39m sp\u001b[38;5;241m.\u001b[39msymbols(\u001b[38;5;124m'\u001b[39m\u001b[38;5;124mr phi P s\u001b[39m\u001b[38;5;124m'\u001b[39m)\n",
      "\u001b[0;31mModuleNotFoundError\u001b[0m: No module named 'sympy'"
     ]
    }
   ],
   "source": [
    "import sympy as sp\n",
    "\n",
    "# Define variables\n",
    "r, phi, P, s = sp.symbols('r phi P s')\n",
    "k_phi = sp.exp(s * sp.cos(phi))  # Permeability function based on von Mises\n",
    "\n",
    "# Define pressure gradient components\n",
    "P_r = sp.Function('P')(r, phi).diff(r)   # dP/dr\n",
    "P_phi = sp.Function('P')(r, phi).diff(phi)  # dP/dphi\n",
    "\n",
    "# Define radial and angular flux terms\n",
    "q_r = k_phi * P_r  # Radial flux\n",
    "q_phi = k_phi / r * P_phi  # Angular flux\n",
    "\n",
    "# Continuity equation in polar coordinates\n",
    "continuity_eq = (\n",
    "    (1 / r) * sp.diff(r * q_r, r) + (1 / r**2) * sp.diff(q_phi, phi)\n",
    ")\n",
    "\n",
    "# Simplify the equation\n",
    "continuity_eq_simplified = sp.simplify(continuity_eq)\n",
    "\n",
    "# Display the derived equation\n",
    "continuity_eq_simplified\n"
   ]
  },
  {
   "cell_type": "code",
   "execution_count": null,
   "id": "145670ff-b90b-4969-815c-6f2059418d80",
   "metadata": {},
   "outputs": [],
   "source": [
    "# Define polar to Cartesian transformation\n",
    "x_to_r_phi = r * sp.cos(phi)\n",
    "y_to_r_phi = r * sp.sin(phi)\n",
    "\n",
    "# Define pressure gradient in Cartesian\n",
    "P_xy = sp.Function('P')(x, y)\n",
    "P_x = P_xy.diff(x)  # dP/dx\n",
    "P_y = P_xy.diff(y)  # dP/dy\n",
    "\n",
    "# Transform Cartesian derivatives into polar coordinates using chain rule\n",
    "dP_dx = sp.cos(phi) * P.diff(r) - sp.sin(phi) * P.diff(phi) / r\n",
    "dP_dy = sp.sin(phi) * P.diff(r) + sp.cos(phi) * P.diff(phi) / r\n",
    "\n",
    "# Substituting these into the Cartesian divergence expression\n",
    "div_cartesian = sp.diff(-P_x, x) + sp.diff(-P_y, y)\n",
    "\n",
    "div_polar = div_cartesian.subs({P_x: dP_dx, P_y: dP_dy})\n",
    "\n",
    "# Simplify the result to express divergence in polar coordinates\n",
    "div_polar_simplified = sp.simplify(div_polar)\n",
    "div_polar_simplified\n"
   ]
  }
 ],
 "metadata": {
  "kernelspec": {
   "display_name": "Python 3 (ipykernel)",
   "language": "python",
   "name": "python3"
  },
  "language_info": {
   "codemirror_mode": {
    "name": "ipython",
    "version": 3
   },
   "file_extension": ".py",
   "mimetype": "text/x-python",
   "name": "python",
   "nbconvert_exporter": "python",
   "pygments_lexer": "ipython3",
   "version": "3.13.0"
  }
 },
 "nbformat": 4,
 "nbformat_minor": 5
}
