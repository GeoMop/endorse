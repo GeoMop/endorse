{
 "cells": [
  {
   "cell_type": "code",
   "execution_count": 13,
   "id": "145670ff-b90b-4969-815c-6f2059418d80",
   "metadata": {
    "execution": {
     "iopub.execute_input": "2024-12-03T17:53:07.112759Z",
     "iopub.status.busy": "2024-12-03T17:53:07.112049Z",
     "iopub.status.idle": "2024-12-03T17:53:07.123557Z",
     "shell.execute_reply": "2024-12-03T17:53:07.122836Z",
     "shell.execute_reply.started": "2024-12-03T17:53:07.112708Z"
    }
   },
   "outputs": [
    {
     "data": {
      "text/latex": [
       "$\\displaystyle \\frac{\\partial}{\\partial x} \\left(- k{\\left(x,y \\right)} \\frac{\\partial}{\\partial x} P{\\left(x,y \\right)}\\right) + \\frac{\\partial}{\\partial y} \\left(- k{\\left(x,y \\right)} \\frac{\\partial}{\\partial y} P{\\left(x,y \\right)}\\right)$"
      ],
      "text/plain": [
       "Derivative(-k(x, y)*Derivative(P(x, y), x), x) + Derivative(-k(x, y)*Derivative(P(x, y), y), y)"
      ]
     },
     "metadata": {},
     "output_type": "display_data"
    }
   ],
   "source": [
    "# Re-import sympy due to environment reset\n",
    "import sympy as sp\n",
    "\n",
    "# Define Cartesian coordinates and pressure function\n",
    "x, y = sp.symbols('x y')\n",
    "P = sp.Function('P')(x, y)  # Pressure as a function of x and y\n",
    "k = sp.Function('k')(x, y)  # Permeability as a function of x and y\n",
    "\n",
    "# Define Darcy velocities in Cartesian coordinates\n",
    "q_x = -k * sp.Derivative(P, x)  # Flux in x-direction\n",
    "q_y = -k * sp.Derivative(P, y)  # Flux in y-direction\n",
    "\n",
    "# Continuity equation in Cartesian coordinates\n",
    "darcy_cartesian = sp.Derivative(q_x, x) + sp.Derivative(q_y, y)\n",
    "\n",
    "display(darcy_cartesian)\n",
    "\n"
   ]
  },
  {
   "cell_type": "code",
   "execution_count": null,
   "id": "b108da75-bb27-44fe-9fc4-d19ac6a3b793",
   "metadata": {},
   "outputs": [],
   "source": [
    "## Anisotropic Darcy flow in polar coordinates\n",
    "\n"
   ]
  },
  {
   "cell_type": "code",
   "execution_count": null,
   "id": "016f280e-aac6-4007-a282-612eb3ef3f02",
   "metadata": {},
   "outputs": [],
   "source": [
    "# Transform to polar coordinates: define polar variables\n",
    "r, phi = sp.symbols('r phi')\n",
    "P_polar = sp.Function('P')(r, phi)  # Pressure in polar coordinates\n",
    "k_polar = sp.Function('k')(r, phi)  # Permeability in polar coordinates\n",
    "\n",
    "# Transformation from Cartesian to polar coordinates\n",
    "x_to_r_phi = r * sp.cos(phi)\n",
    "y_to_r_phi = r * sp.sin(phi)\n",
    "\n",
    "# Chain rule for derivatives in polar coordinates\n",
    "P_x = sp.diff(P_polar, r) * sp.diff(r, x) + sp.diff(P_polar, phi) * sp.diff(phi, x)\n",
    "P_y = sp.diff(P_polar, r) * sp.diff(r, y) + sp.diff(P_polar, phi) * sp.diff(phi, y)\n",
    "\n",
    "# Derivatives of r and phi with respect to x and y\n",
    "dr_dx = sp.cos(phi)\n",
    "dr_dy = sp.sin(phi)\n",
    "dphi_dx = -sp.sin(phi) / r\n",
    "dphi_dy = sp.cos(phi) / r\n",
    "\n",
    "# Substitute derivatives into the Cartesian flux terms\n",
    "q_x_polar = -k_polar * (P_polar.diff(r) * dr_dx + P_polar.diff(phi) * dphi_dx)\n",
    "q_y_polar = -k_polar * (P_polar.diff(r) * dr_dy + P_polar.diff(phi) * dphi_dy)\n",
    "\n",
    "# Divergence in polar coordinates\n",
    "div_polar = sp.diff(q_x_polar, x) + sp.diff(q_y_polar, y)\n",
    "\n",
    "# Substitute x and y derivatives with their polar equivalents\n",
    "div_polar = div_polar.subs({\n",
    "    sp.diff(r, x): dr_dx,\n",
    "    sp.diff(r, y): dr_dy,\n",
    "    sp.diff(phi, x): dphi_dx,\n",
    "    sp.diff(phi, y): dphi_dy\n",
    "})\n",
    "\n",
    "# Simplify the resulting expression\n",
    "div_polar_simplified = sp.simplify(div_polar)\n",
    "div_polar_simplified\n"
   ]
  },
  {
   "cell_type": "code",
   "execution_count": 6,
   "id": "6eadaeaa-eea7-44d4-8cc7-06c6973007b7",
   "metadata": {
    "execution": {
     "iopub.execute_input": "2024-12-03T17:20:41.506753Z",
     "iopub.status.busy": "2024-12-03T17:20:41.505755Z",
     "iopub.status.idle": "2024-12-03T17:20:42.531726Z",
     "shell.execute_reply": "2024-12-03T17:20:42.531284Z",
     "shell.execute_reply.started": "2024-12-03T17:20:41.506663Z"
    }
   },
   "outputs": [
    {
     "data": {
      "text/latex": [
       "$\\displaystyle \\frac{r e^{s \\cos{\\left(\\phi \\right)}} \\frac{\\partial^{2}}{\\partial r^{2}} P{\\left(r,\\phi \\right)} + e^{s \\cos{\\left(\\phi \\right)}} \\frac{\\partial}{\\partial r} P{\\left(r,\\phi \\right)}}{r} + \\frac{- \\frac{s e^{s \\cos{\\left(\\phi \\right)}} \\sin{\\left(\\phi \\right)} \\frac{\\partial}{\\partial \\phi} P{\\left(r,\\phi \\right)}}{r} + \\frac{e^{s \\cos{\\left(\\phi \\right)}} \\frac{\\partial^{2}}{\\partial \\phi^{2}} P{\\left(r,\\phi \\right)}}{r}}{r^{2}} = 0$"
      ],
      "text/plain": [
       "Eq((r*exp(s*cos(phi))*Derivative(P(r, phi), (r, 2)) + exp(s*cos(phi))*Derivative(P(r, phi), r))/r + (-s*exp(s*cos(phi))*sin(phi)*Derivative(P(r, phi), phi)/r + exp(s*cos(phi))*Derivative(P(r, phi), (phi, 2))/r)/r**2, 0)"
      ]
     },
     "metadata": {},
     "output_type": "display_data"
    },
    {
     "data": {
      "text/latex": [
       "$\\displaystyle \\frac{\\left(r^{2} \\left(r \\frac{\\partial^{2}}{\\partial r^{2}} P{\\left(r,\\phi \\right)} + \\frac{\\partial}{\\partial r} P{\\left(r,\\phi \\right)}\\right) - s \\sin{\\left(\\phi \\right)} \\frac{\\partial}{\\partial \\phi} P{\\left(r,\\phi \\right)} + \\frac{\\partial^{2}}{\\partial \\phi^{2}} P{\\left(r,\\phi \\right)}\\right) e^{s \\cos{\\left(\\phi \\right)}}}{r^{3}} = 0$"
      ],
      "text/plain": [
       "Eq((r**2*(r*Derivative(P(r, phi), (r, 2)) + Derivative(P(r, phi), r)) - s*sin(phi)*Derivative(P(r, phi), phi) + Derivative(P(r, phi), (phi, 2)))*exp(s*cos(phi))/r**3, 0)"
      ]
     },
     "execution_count": 6,
     "metadata": {},
     "output_type": "execute_result"
    }
   ],
   "source": [
    "import sympy as sp\n",
    "\n",
    "# Define variables\n",
    "r, phi, P, s = sp.symbols('r phi P s')\n",
    "k_phi = sp.exp(s * sp.cos(phi))  # Permeability function based on von Mises\n",
    "\n",
    "# Define pressure gradient components\n",
    "P_r = sp.Function('P')(r, phi).diff(r)   # dP/dr\n",
    "P_phi = sp.Function('P')(r, phi).diff(phi)  # dP/dphi\n",
    "\n",
    "# Define radial and angular flux terms\n",
    "q_r = k_phi * P_r  # Radial flux\n",
    "q_phi = k_phi / r * P_phi  # Angular flux\n",
    "\n",
    "# Continuity equation in polar coordinates\n",
    "continuity_eq = sp.Eq(\n",
    "    (1 / r) * sp.diff(r * q_r, r) + (1 / r**2) * sp.diff(q_phi, phi), 0\n",
    ")\n",
    "\n",
    "display(continuity_eq)\n",
    "\n",
    "# Simplify the equation\n",
    "continuity_eq_simplified = sp.simplify(continuity_eq)\n",
    "\n",
    "# Display the derived equation\n",
    "continuity_eq_simplified\n"
   ]
  }
 ],
 "metadata": {
  "kernelspec": {
   "display_name": "Python 3 (ipykernel)",
   "language": "python",
   "name": "python3"
  },
  "language_info": {
   "codemirror_mode": {
    "name": "ipython",
    "version": 3
   },
   "file_extension": ".py",
   "mimetype": "text/x-python",
   "name": "python",
   "nbconvert_exporter": "python",
   "pygments_lexer": "ipython3",
   "version": "3.13.0"
  }
 },
 "nbformat": 4,
 "nbformat_minor": 5
}
